{
 "cells": [
  {
   "cell_type": "code",
   "execution_count": 2,
   "metadata": {},
   "outputs": [
    {
     "name": "stderr",
     "output_type": "stream",
     "text": [
      "/Users/yao-yulin/anaconda3/lib/python3.6/site-packages/ipykernel/__main__.py:25: SettingWithCopyWarning: \n",
      "A value is trying to be set on a copy of a slice from a DataFrame.\n",
      "Try using .loc[row_indexer,col_indexer] = value instead\n",
      "\n",
      "See the caveats in the documentation: http://pandas.pydata.org/pandas-docs/stable/indexing.html#indexing-view-versus-copy\n",
      "/Users/yao-yulin/anaconda3/lib/python3.6/site-packages/ipykernel/__main__.py:26: SettingWithCopyWarning: \n",
      "A value is trying to be set on a copy of a slice from a DataFrame.\n",
      "Try using .loc[row_indexer,col_indexer] = value instead\n",
      "\n",
      "See the caveats in the documentation: http://pandas.pydata.org/pandas-docs/stable/indexing.html#indexing-view-versus-copy\n",
      "/Users/yao-yulin/anaconda3/lib/python3.6/site-packages/ipykernel/__main__.py:27: SettingWithCopyWarning: \n",
      "A value is trying to be set on a copy of a slice from a DataFrame.\n",
      "Try using .loc[row_indexer,col_indexer] = value instead\n",
      "\n",
      "See the caveats in the documentation: http://pandas.pydata.org/pandas-docs/stable/indexing.html#indexing-view-versus-copy\n",
      "/Users/yao-yulin/anaconda3/lib/python3.6/site-packages/ipykernel/__main__.py:39: DeprecationWarning: \n",
      ".ix is deprecated. Please use\n",
      ".loc for label based indexing or\n",
      ".iloc for positional indexing\n",
      "\n",
      "See the documentation here:\n",
      "http://pandas.pydata.org/pandas-docs/stable/indexing.html#ix-indexer-is-deprecated\n"
     ]
    },
    {
     "data": {
      "text/plain": [
       "818.4526"
      ]
     },
     "execution_count": 2,
     "metadata": {},
     "output_type": "execute_result"
    }
   ],
   "source": [
    "# 9:33pm\n",
    "\n",
    "import os\n",
    "\n",
    "import numpy as np\n",
    "import pandas as pd\n",
    "\n",
    "from trackml.dataset import load_event\n",
    "from trackml.randomize import shuffle_hits\n",
    "from trackml.score import score_event\n",
    "\n",
    "import matplotlib.pyplot as plt\n",
    "from mpl_toolkits.mplot3d import Axes3D\n",
    "import seaborn as sns\n",
    "%matplotlib inline\n",
    "\n",
    "#event_prefix = ['event000001000', 'event000001002']\n",
    "event_prefix = 'event000001001'\n",
    "hits, cells, particles, truth = load_event(os.path.join('train_100_events/', event_prefix))\n",
    "\n",
    "\n",
    "####hits_playground\n",
    "\n",
    "hits_playground = hits[[\"x\",\"y\",\"z\"]]\n",
    "hits_playground[\"r\"] =np.sqrt(hits_playground[\"x\"]**2 + hits_playground[\"y\"]**2 + hits_playground[\"z\"]**2)\n",
    "hits_playground[\"phi\"] = np.arctan2(hits_playground[\"x\"], hits_playground[\"y\"])\n",
    "hits_playground[\"theta\"] = np.arccos(hits_playground[\"z\"]/hits_playground[\"r\"])\n",
    "\n",
    "\n",
    "# real_particles \n",
    "real_particles = particles[particles[\"particle_id\"] != 0]\n",
    "particles_count = real_particles.shape[0]\n",
    "\n",
    "\n",
    "\n",
    "\n",
    "\n",
    "\n",
    "hits_playground[\"r\"].ix[particles_count]"
   ]
  },
  {
   "cell_type": "code",
   "execution_count": null,
   "metadata": {
    "collapsed": true
   },
   "outputs": [],
   "source": []
  },
  {
   "cell_type": "code",
   "execution_count": 3,
   "metadata": {},
   "outputs": [
    {
     "name": "stderr",
     "output_type": "stream",
     "text": [
      "/Users/yao-yulin/anaconda3/lib/python3.6/site-packages/ipykernel/__main__.py:16: SettingWithCopyWarning: \n",
      "A value is trying to be set on a copy of a slice from a DataFrame.\n",
      "Try using .loc[row_indexer,col_indexer] = value instead\n",
      "\n",
      "See the caveats in the documentation: http://pandas.pydata.org/pandas-docs/stable/indexing.html#indexing-view-versus-copy\n",
      "/Users/yao-yulin/anaconda3/lib/python3.6/site-packages/ipykernel/__main__.py:17: SettingWithCopyWarning: \n",
      "A value is trying to be set on a copy of a slice from a DataFrame.\n",
      "Try using .loc[row_indexer,col_indexer] = value instead\n",
      "\n",
      "See the caveats in the documentation: http://pandas.pydata.org/pandas-docs/stable/indexing.html#indexing-view-versus-copy\n",
      "/Users/yao-yulin/anaconda3/lib/python3.6/site-packages/ipykernel/__main__.py:18: SettingWithCopyWarning: \n",
      "A value is trying to be set on a copy of a slice from a DataFrame.\n",
      "Try using .loc[row_indexer,col_indexer] = value instead\n",
      "\n",
      "See the caveats in the documentation: http://pandas.pydata.org/pandas-docs/stable/indexing.html#indexing-view-versus-copy\n",
      "/Users/yao-yulin/anaconda3/lib/python3.6/site-packages/ipykernel/__main__.py:29: DeprecationWarning: \n",
      ".ix is deprecated. Please use\n",
      ".loc for label based indexing or\n",
      ".iloc for positional indexing\n",
      "\n",
      "See the documentation here:\n",
      "http://pandas.pydata.org/pandas-docs/stable/indexing.html#ix-indexer-is-deprecated\n"
     ]
    },
    {
     "name": "stdout",
     "output_type": "stream",
     "text": [
      "698.1839\n",
      "12263\n",
      "120939\n",
      "818.4526\n",
      "8915\n",
      "93680\n",
      "703.82477\n",
      "12763\n",
      "125504\n",
      "719.5956\n",
      "10261\n",
      "104451\n",
      "698.57916\n",
      "14159\n",
      "138568\n",
      "707.9207\n",
      "10945\n",
      "110023\n",
      "702.7128\n",
      "11773\n",
      "118534\n",
      "703.8678\n",
      "10941\n",
      "111321\n",
      "704.28284\n",
      "11128\n",
      "111867\n",
      "703.5984\n",
      "10724\n",
      "108769\n",
      "700.3571\n",
      "10150\n",
      "104084\n",
      "701.59076\n",
      "11630\n",
      "117559\n",
      "699.45886\n",
      "10874\n",
      "110542\n",
      "704.41956\n",
      "10343\n",
      "106584\n",
      "699.388\n",
      "12663\n",
      "126166\n",
      "703.6077\n",
      "12322\n",
      "122359\n",
      "700.3403\n",
      "11770\n",
      "117847\n",
      "699.3995\n",
      "12407\n",
      "124251\n",
      "701.2232\n",
      "8796\n",
      "92521\n",
      "706.3952\n",
      "12355\n",
      "122849\n",
      "705.885\n",
      "9041\n",
      "94081\n",
      "703.8238\n",
      "10287\n",
      "104331\n",
      "703.1135\n",
      "10141\n",
      "104514\n",
      "708.8937\n",
      "12975\n",
      "128037\n",
      "703.6745\n",
      "11602\n",
      "117272\n",
      "699.64355\n",
      "11961\n",
      "119916\n",
      "710.6973\n",
      "12316\n",
      "122690\n",
      "703.3358\n",
      "11619\n",
      "116111\n",
      "715.9025\n",
      "11515\n",
      "116426\n",
      "703.12024\n",
      "10701\n",
      "109169\n",
      "721.72174\n",
      "11182\n",
      "113998\n",
      "702.65704\n",
      "12290\n",
      "122263\n",
      "712.6446\n",
      "9766\n",
      "101355\n",
      "706.4807\n",
      "9185\n",
      "96013\n",
      "714.0497\n",
      "11515\n",
      "114724\n",
      "713.88293\n",
      "9316\n",
      "96644\n",
      "705.8058\n",
      "10246\n",
      "105489\n",
      "699.60315\n",
      "11539\n",
      "115620\n",
      "714.8885\n",
      "11393\n",
      "113875\n",
      "716.90955\n",
      "8343\n",
      "88221\n"
     ]
    }
   ],
   "source": [
    "hit_counts_list = []\n",
    "particles_count_list = []\n",
    "r_list = []\n",
    "\n",
    "\n",
    "for i in range(40):\n",
    "\n",
    "    #event_prefix = ['event000001000', 'event000001002']\n",
    "    event_prefix = 'event000001' + \"%03d\" % (i)\n",
    "    hits, cells, particles, truth = load_event(os.path.join('train_100_events/', event_prefix))\n",
    "\n",
    "\n",
    "    ####hits_playground\n",
    "\n",
    "    hits_playground = hits[[\"x\",\"y\",\"z\"]]\n",
    "    hits_playground[\"r\"] =np.sqrt(hits_playground[\"x\"]**2 + hits_playground[\"y\"]**2 + hits_playground[\"z\"]**2)\n",
    "    hits_playground[\"phi\"] = np.arctan2(hits_playground[\"x\"], hits_playground[\"y\"])\n",
    "    hits_playground[\"theta\"] = np.arccos(hits_playground[\"z\"]/hits_playground[\"r\"])\n",
    "\n",
    "\n",
    "    # real_particles \n",
    "    real_particles = particles[particles[\"particle_id\"] != 0]\n",
    "    particles_count = real_particles.shape[0]\n",
    "    hit_counts = hits_playground.shape[0]\n",
    "    \n",
    "    # list append\n",
    "    hit_counts_list.append(hit_counts)\n",
    "    particles_count_list.append(particles_count)\n",
    "    r_list.append(hits_playground[\"r\"].ix[particles_count])\n",
    "    print(hits_playground[\"r\"].ix[particles_count])\n",
    "    print(particles_count)\n",
    "    print(hit_counts)"
   ]
  },
  {
   "cell_type": "code",
   "execution_count": 4,
   "metadata": {},
   "outputs": [
    {
     "data": {
      "text/plain": [
       "Text(0,0.5,'particles_count')"
      ]
     },
     "execution_count": 4,
     "metadata": {},
     "output_type": "execute_result"
    },
    {
     "data": {
      "image/png": "[encoded data removed]",
      "text/plain": [
       "<matplotlib.figure.Figure at 0x105a04048>"
      ]
     },
     "metadata": {},
     "output_type": "display_data"
    }
   ],
   "source": [
    "plt.plot(hit_counts_list, particles_count_list, \"o\")\n",
    "plt.xlabel(\"hit_counts\")\n",
    "plt.ylabel(\"particles_count\")"
   ]
  },
  {
   "cell_type": "code",
   "execution_count": 5,
   "metadata": {},
   "outputs": [
    {
     "data": {
      "text/plain": [
       "LinearRegression(copy_X=True, fit_intercept=True, n_jobs=1, normalize=False)"
      ]
     },
     "execution_count": 5,
     "metadata": {},
     "output_type": "execute_result"
    }
   ],
   "source": [
    "from sklearn import datasets, linear_model\n",
    "from sklearn.metrics import mean_squared_error, r2_score\n",
    "\n",
    "# Create linear regression object\n",
    "regr = linear_model.LinearRegression()\n",
    "\n",
    "# Train the model using the training sets\n",
    "regr.fit(np.array([hit_counts_list]).T, np.array(particles_count_list))"
   ]
  },
  {
   "cell_type": "code",
   "execution_count": 6,
   "metadata": {},
   "outputs": [
    {
     "name": "stdout",
     "output_type": "stream",
     "text": [
      "(100, 1)\n"
     ]
    },
    {
     "data": {
      "text/plain": [
       "[<matplotlib.lines.Line2D at 0x111d80be0>]"
      ]
     },
     "execution_count": 6,
     "metadata": {},
     "output_type": "execute_result"
    },
    {
     "data": {
      "image/png": "[encoded data removed]",
      "text/plain": [
       "<matplotlib.figure.Figure at 0x111d80c18>"
      ]
     },
     "metadata": {},
     "output_type": "display_data"
    }
   ],
   "source": [
    "diabetes_X_test = np.array([np.linspace(90000, 140000, 100)]).T\n",
    "print(diabetes_X_test.shape)\n",
    "diabetes_y_pred = regr.predict(diabetes_X_test)\n",
    "\n",
    "plt.scatter(hit_counts_list, particles_count_list)\n",
    "plt.plot(diabetes_X_test, diabetes_y_pred, color='blue', linewidth=3)\n",
    "\n",
    "\n"
   ]
  },
  {
   "cell_type": "code",
   "execution_count": null,
   "metadata": {},
   "outputs": [],
   "source": []
  },
  {
   "cell_type": "code",
   "execution_count": 7,
   "metadata": {},
   "outputs": [
    {
     "name": "stdout",
     "output_type": "stream",
     "text": [
      "Coefficients: \n",
      " [0.1165261]\n"
     ]
    }
   ],
   "source": [
    "print('Coefficients: \\n', regr.coef_)"
   ]
  },
  {
   "cell_type": "code",
   "execution_count": 8,
   "metadata": {},
   "outputs": [
    {
     "name": "stdout",
     "output_type": "stream",
     "text": [
      "Coefficients: \n",
      " -1974.7525724298102\n"
     ]
    }
   ],
   "source": [
    "print('Coefficients: \\n', regr.intercept_)"
   ]
  },
  {
   "cell_type": "code",
   "execution_count": 9,
   "metadata": {},
   "outputs": [
    {
     "data": {
      "text/plain": [
       "array([8305.29610535])"
      ]
     },
     "execution_count": 9,
     "metadata": {},
     "output_type": "execute_result"
    }
   ],
   "source": [
    "hit_counts * regr.coef_ + regr.intercept_"
   ]
  },
  {
   "cell_type": "code",
   "execution_count": 10,
   "metadata": {},
   "outputs": [
    {
     "data": {
      "text/plain": [
       "8343"
      ]
     },
     "execution_count": 10,
     "metadata": {},
     "output_type": "execute_result"
    }
   ],
   "source": [
    "particles_count"
   ]
  },
  {
   "cell_type": "code",
   "execution_count": null,
   "metadata": {
    "collapsed": true
   },
   "outputs": [],
   "source": []
  }
 ],
 "metadata": {
  "kernelspec": {
   "display_name": "Python 3",
   "language": "python",
   "name": "python3"
  },
  "language_info": {
   "codemirror_mode": {
    "name": "ipython",
    "version": 3
   },
   "file_extension": ".py",
   "mimetype": "text/x-python",
   "name": "python",
   "nbconvert_exporter": "python",
   "pygments_lexer": "ipython3",
   "version": "3.6.3"
  }
 },
 "nbformat": 4,
 "nbformat_minor": 2
}
